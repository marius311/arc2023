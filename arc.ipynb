{
 "cells": [
  {
   "cell_type": "code",
   "execution_count": 1,
   "metadata": {},
   "outputs": [],
   "source": [
    "import re\n",
    "from collections import Counter\n",
    "from itertools import chain\n",
    "from more_itertools import chunked\n",
    "\n",
    "import pandas\n",
    "import tweepy\n",
    "import english_words\n",
    "\n",
    "from handle_map import handle_map"
   ]
  },
  {
   "cell_type": "code",
   "execution_count": 2,
   "metadata": {},
   "outputs": [],
   "source": [
    "client = tweepy.Client(bearer_token=open(\"bearer_token.txt\").read())\n",
    "paginator = tweepy.Paginator(client.search_recent_tweets, query=\"to: arcmusicfest\", tweet_fields=\"conversation_id\")\n",
    "tweets = [tweet for tweet in paginator.flatten(limit=2000) if tweet.conversation_id==1567540300331077632]"
   ]
  },
  {
   "cell_type": "code",
   "execution_count": 3,
   "metadata": {},
   "outputs": [],
   "source": [
    "# save to text file just incase i get rate-limited or something later\n",
    "with open(\"tweets.txt\", \"w\") as f:\n",
    "    f.writelines([re.sub(r'\\s+', ' ', tweet.text)+\"\\n\" for tweet in tweets])"
   ]
  },
  {
   "cell_type": "code",
   "execution_count": 4,
   "metadata": {},
   "outputs": [],
   "source": [
    "# lower-case, normalize white-space, remove punctuation, and replace @tagged arists with their name\n",
    "def normalize_string(s, handle_map={}):\n",
    "    s = re.sub(r'\\s+', ' ', re.sub(r'[^\\w\\s@]', ' ', s.lower().replace(\"@arcmusicfest\",\"\"))).strip()\n",
    "    for (k,v) in handle_map.items():\n",
    "        s = s.replace(k, v)\n",
    "    return s"
   ]
  },
  {
   "cell_type": "code",
   "execution_count": 5,
   "metadata": {},
   "outputs": [],
   "source": [
    "# consider every 1, 2, or 3 consecutive combination of words as a possible artist\n",
    "def runs_of(arr, size):\n",
    "    return [arr[i:i+size] for i in range(len(arr)-size+1)]\n",
    "\n",
    "def possible_artist_names(s):\n",
    "    words_no_tags = [word for word in normalize_string(s).split() if not re.match(twitter_handle_regex, word)]\n",
    "    return [' '.join(words) for words in chain(*(runs_of(words_no_tags, run) for run in [1,2,3]))]"
   ]
  },
  {
   "cell_type": "code",
   "execution_count": 6,
   "metadata": {},
   "outputs": [],
   "source": [
    "twitter_handle_regex = r\"(?<=^|(?<=[^a-zA-Z0-9-_\\.]))(@[A-Za-z]+[A-Za-z0-9-_]+)\""
   ]
  },
  {
   "cell_type": "code",
   "execution_count": 7,
   "metadata": {},
   "outputs": [],
   "source": [
    "# extract top tagged artists to then write out their names in handle_map.py by hand\n",
    "tagged_artists = (handle.lower() for handle in chain(*(re.findall(twitter_handle_regex, normalize_string(tweet.text)) for tweet in tweets)))\n",
    "top_tagged_artists = pandas.DataFrame.from_dict(Counter(tagged_artists), orient=\"index\").sort_values(by=0, ascending=False)[:40]\n",
    "# for artist in top_tagged_artists.index:\n",
    "#     print(artist)"
   ]
  },
  {
   "cell_type": "code",
   "execution_count": 8,
   "metadata": {},
   "outputs": [],
   "source": [
    "artists = set(\n",
    "    artist for artist in chain(handle_map.keys(), *(possible_artist_names(tweet.text) for tweet in tweets))\n",
    "    if (len(artist)>3 or artist==\"kx5\") and not artist in english_words.english_words_lower_set\n",
    ")"
   ]
  },
  {
   "cell_type": "code",
   "execution_count": 9,
   "metadata": {},
   "outputs": [],
   "source": [
    "vote_counts = {artist: sum(artist in normalize_string(tweet.text, handle_map) for tweet in tweets) for artist in artists}\n",
    "vote_counts = pandas.DataFrame.from_dict(vote_counts, orient=\"index\", columns=[\"votes\"]).sort_values(by=\"votes\", ascending=False)"
   ]
  },
  {
   "cell_type": "code",
   "execution_count": 10,
   "metadata": {},
   "outputs": [],
   "source": [
    "# narrow down what is actual artist names to things with > 5 appearances\n",
    "# and that arent included in a bigger word (eg remove \"i hate\" but keep \"i hate models\")\n",
    "artists = set(vote_counts[vote_counts[\"votes\"]>5].index)\n",
    "artists = [artist for artist in artists if not any(artist in artist2 for artist2 in artists if artist!=artist2)]"
   ]
  },
  {
   "cell_type": "code",
   "execution_count": 11,
   "metadata": {},
   "outputs": [
    {
     "data": {
      "text/html": [
       "<div>\n",
       "<style scoped>\n",
       "    .dataframe tbody tr th:only-of-type {\n",
       "        vertical-align: middle;\n",
       "    }\n",
       "\n",
       "    .dataframe tbody tr th {\n",
       "        vertical-align: top;\n",
       "    }\n",
       "\n",
       "    .dataframe thead th {\n",
       "        text-align: right;\n",
       "    }\n",
       "</style>\n",
       "<table border=\"1\" class=\"dataframe\">\n",
       "  <thead>\n",
       "    <tr style=\"text-align: right;\">\n",
       "      <th></th>\n",
       "      <th>votes</th>\n",
       "    </tr>\n",
       "  </thead>\n",
       "  <tbody>\n",
       "    <tr>\n",
       "      <th>amelie lens</th>\n",
       "      <td>34</td>\n",
       "    </tr>\n",
       "    <tr>\n",
       "      <th>i hate models</th>\n",
       "      <td>32</td>\n",
       "    </tr>\n",
       "    <tr>\n",
       "      <th>john summit</th>\n",
       "      <td>30</td>\n",
       "    </tr>\n",
       "    <tr>\n",
       "      <th>michael bibi</th>\n",
       "      <td>27</td>\n",
       "    </tr>\n",
       "    <tr>\n",
       "      <th>eli brown</th>\n",
       "      <td>25</td>\n",
       "    </tr>\n",
       "    <tr>\n",
       "      <th>tale of us</th>\n",
       "      <td>20</td>\n",
       "    </tr>\n",
       "    <tr>\n",
       "      <th>fred again</th>\n",
       "      <td>20</td>\n",
       "    </tr>\n",
       "    <tr>\n",
       "      <th>artbat</th>\n",
       "      <td>16</td>\n",
       "    </tr>\n",
       "    <tr>\n",
       "      <th>pawsa</th>\n",
       "      <td>16</td>\n",
       "    </tr>\n",
       "    <tr>\n",
       "      <th>jamie jones</th>\n",
       "      <td>16</td>\n",
       "    </tr>\n",
       "  </tbody>\n",
       "</table>\n",
       "</div>"
      ],
      "text/plain": [
       "               votes\n",
       "amelie lens       34\n",
       "i hate models     32\n",
       "john summit       30\n",
       "michael bibi      27\n",
       "eli brown         25\n",
       "tale of us        20\n",
       "fred again        20\n",
       "artbat            16\n",
       "pawsa             16\n",
       "jamie jones       16"
      ]
     },
     "execution_count": 11,
     "metadata": {},
     "output_type": "execute_result"
    }
   ],
   "source": [
    "vote_counts.filter(items=artists, axis=0).sort_values(by=\"votes\", ascending=False)[:10]"
   ]
  }
 ],
 "metadata": {
  "kernelspec": {
   "display_name": "Python 3.9.7 ('.venv': poetry)",
   "language": "python",
   "name": "python3"
  },
  "language_info": {
   "codemirror_mode": {
    "name": "ipython",
    "version": 3
   },
   "file_extension": ".py",
   "mimetype": "text/x-python",
   "name": "python",
   "nbconvert_exporter": "python",
   "pygments_lexer": "ipython3",
   "version": "3.9.7"
  },
  "orig_nbformat": 4,
  "vscode": {
   "interpreter": {
    "hash": "e7993e8b97a9a84b5ce2b2c21dafaa23edce718084a9436f98d52ffddb443590"
   }
  }
 },
 "nbformat": 4,
 "nbformat_minor": 2
}
